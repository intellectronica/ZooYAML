{
  "nbformat": 4,
  "nbformat_minor": 0,
  "metadata": {
    "colab": {
      "provenance": []
    },
    "kernelspec": {
      "name": "python3",
      "display_name": "Python 3"
    },
    "language_info": {
      "name": "python"
    }
  },
  "cells": [
    {
      "cell_type": "markdown",
      "source": [
        "This is an example of using Azure Open AI, with the gpt-3.5-turbo model (AKA\n",
        "ChatGPT) to generate a YAML file from textual description. It follows a new\n",
        "format, ZooYAML, which describes the animals in a zoo. This new format is chosen\n",
        "in order to avoid a format of an open-source or other publicly available format\n",
        "that may have already been seen by the model in its training.\n",
        "\n",
        "The technique used for prompting the model are simply providing a clear\n",
        "explanation of the format, as well as two examples (few-shot learning).\n",
        "\n",
        "The model seems to cope well with the task, and in addition to manual inspection\n",
        "of the output, it is also being parsed as YAML to verify that it is syntactically correct.\n",
        "\n",
        "It would be interesting, in a future iteration, to use a more complex format,\n",
        "and to see if the format can also be verified semantically using a schema. In\n",
        "addition, it would be good to know whether the model can learn from a schema,\n",
        "rather than from a free form description of the format."
      ],
      "metadata": {
        "id": "Hek4mbwMURWQ"
      }
    },
    {
      "cell_type": "code",
      "execution_count": 53,
      "metadata": {
        "colab": {
          "base_uri": "https://localhost:8080/"
        },
        "id": "MXZjSsdsDoOG",
        "outputId": "53fb46f2-ffd5-41b0-8bd8-d61f900daec1"
      },
      "outputs": [
        {
          "output_type": "stream",
          "name": "stdout",
          "text": [
            "Looking in indexes: https://pypi.org/simple, https://us-python.pkg.dev/colab-wheels/public/simple/\n",
            "Requirement already satisfied: openai in /usr/local/lib/python3.10/dist-packages (0.27.5)\n",
            "Requirement already satisfied: pyyaml in /usr/local/lib/python3.10/dist-packages (6.0)\n",
            "Requirement already satisfied: tqdm in /usr/local/lib/python3.10/dist-packages (from openai) (4.65.0)\n",
            "Requirement already satisfied: aiohttp in /usr/local/lib/python3.10/dist-packages (from openai) (3.8.4)\n",
            "Requirement already satisfied: requests>=2.20 in /usr/local/lib/python3.10/dist-packages (from openai) (2.27.1)\n",
            "Requirement already satisfied: charset-normalizer~=2.0.0 in /usr/local/lib/python3.10/dist-packages (from requests>=2.20->openai) (2.0.12)\n",
            "Requirement already satisfied: certifi>=2017.4.17 in /usr/local/lib/python3.10/dist-packages (from requests>=2.20->openai) (2022.12.7)\n",
            "Requirement already satisfied: urllib3<1.27,>=1.21.1 in /usr/local/lib/python3.10/dist-packages (from requests>=2.20->openai) (1.26.15)\n",
            "Requirement already satisfied: idna<4,>=2.5 in /usr/local/lib/python3.10/dist-packages (from requests>=2.20->openai) (3.4)\n",
            "Requirement already satisfied: frozenlist>=1.1.1 in /usr/local/lib/python3.10/dist-packages (from aiohttp->openai) (1.3.3)\n",
            "Requirement already satisfied: multidict<7.0,>=4.5 in /usr/local/lib/python3.10/dist-packages (from aiohttp->openai) (6.0.4)\n",
            "Requirement already satisfied: aiosignal>=1.1.2 in /usr/local/lib/python3.10/dist-packages (from aiohttp->openai) (1.3.1)\n",
            "Requirement already satisfied: async-timeout<5.0,>=4.0.0a3 in /usr/local/lib/python3.10/dist-packages (from aiohttp->openai) (4.0.2)\n",
            "Requirement already satisfied: yarl<2.0,>=1.0 in /usr/local/lib/python3.10/dist-packages (from aiohttp->openai) (1.9.2)\n",
            "Requirement already satisfied: attrs>=17.3.0 in /usr/local/lib/python3.10/dist-packages (from aiohttp->openai) (23.1.0)\n"
          ]
        }
      ],
      "source": [
        "!pip install openai pyyaml"
      ]
    },
    {
      "cell_type": "code",
      "source": [
        "from textwrap import dedent\n",
        "import yaml\n",
        "from pprint import pprint\n",
        "import openai\n",
        "\n",
        "openai.api_type = 'azure'\n",
        "openai.api_version = '2023-03-15-preview'\n",
        "openai.api_base = ' ... ' # Replace with the URL of an Azure OpenAI gpt-3.5-turbo deployment\n",
        "openai.api_key = ' ... ' # Replace with the corresponding API key\n",
        "\n",
        "deployment_id = 'gpt-35-turbo' # Replace if using a different deployment name\n"
      ],
      "metadata": {
        "id": "LYFisF9zEaUD"
      },
      "execution_count": 54,
      "outputs": []
    },
    {
      "cell_type": "code",
      "source": [
        "def get_completion(prompt):\n",
        "  completion = openai.Completion.create(\n",
        "      deployment_id=deployment_id,\n",
        "      prompt=prompt,\n",
        "      temperature=0.0,\n",
        "      max_tokens=1234)\n",
        "  return completion.choices[0].text.replace('<|im_end|>', '')"
      ],
      "metadata": {
        "id": "jh_gzVCKFEFV"
      },
      "execution_count": 55,
      "outputs": []
    },
    {
      "cell_type": "code",
      "source": [
        "PROMPT_TEMPLATE = dedent(\"\"\"\n",
        "  You are a masterful and accurate configurator of the ZooYAML format.\n",
        "  Given clear instructions in human language, you produce a YAML file\n",
        "  in the ZooYAML format, triple quoted.\n",
        "\n",
        "  Never invent any information that was not provided in the\n",
        "  instructions. If you are unable to complete the task without\n",
        "  additional information, output \"ERROR: \" followed by the reason\n",
        "  you are unable to complete the task.\n",
        "\n",
        "  Only provide a single YAML output, corresponding to the instructions. Don't\n",
        "  generate any additional text after it.\n",
        "\n",
        "  The ZooYAML format:\n",
        "  ZooYAML describes the animals in a zoo. Each animal has the following\n",
        "  properties:\n",
        "  - name: string - name of the animal\n",
        "  - size: string - one of (\"xs\" / \"s\" / \"m\" / \"l\" / \"xl\")\n",
        "  - family: string - one of (\"mammal\", \"bird\", \"fish\", \"reptile\")\n",
        "  - nutrition: string - one of (\"vegetarian\" / \"carnivorous\")\n",
        "  - predator_of: string or list of strings - name of animal or multiple animals\n",
        "    this animal eats. Only include this parameter if the animal it eats is one\n",
        "    of the other animals in the zoo.\n",
        "\n",
        "  Example 1:\n",
        "  Instruction: This zoo has an elephant, a very large vegetarian mammal, a\n",
        "  parrot, which is a small bird eating grains, and a tiger, a medium-sized\n",
        "  carnivorous mammal who can hunt and eat elephants.\n",
        "  ZooYAML:\n",
        "  ```\n",
        "  zoo:\n",
        "    - name: elephant\n",
        "      size: xl\n",
        "      family: mammal\n",
        "      nutrition: vegetarian\n",
        "    - name: parrot\n",
        "      size: s\n",
        "      family: bird\n",
        "      nutrition: vegetarian\n",
        "    - name: tiger\n",
        "      size: m\n",
        "      family: mammal\n",
        "      nutrition: carnivorous\n",
        "      predator_of: elephant\n",
        "  ```\n",
        "\n",
        "  Example 2:\n",
        "  Instruction: This an interesting zoo where all animals are predators and may\n",
        "  eat each other. It houses a shark - medium size fish, a dolphin, which is a\n",
        "  medium sized marine mammal, a hyiena which is a small mamal that eats\n",
        "  anything, and also an albatros, a bird of medium size and big appetite.\n",
        "  ZooYAML:\n",
        "  ```\n",
        "  zoo:\n",
        "    - name: shark\n",
        "      size: m\n",
        "      family: fish\n",
        "      nutrition: carnivorous\n",
        "      predator_of:\n",
        "        - dolphin\n",
        "        - hyiena\n",
        "        - albatros\n",
        "    - name: dolphin\n",
        "      size: m\n",
        "      family: mammal\n",
        "      nutrition: carnivorous\n",
        "      predator_of:\n",
        "        - shark\n",
        "        - hyiena\n",
        "        - albatros\n",
        "    - name: hyiena\n",
        "      size: s\n",
        "      family: mammal\n",
        "      nutrition: carnivorous\n",
        "      predator_of:\n",
        "        - shark\n",
        "        - dolphin\n",
        "        - albatros\n",
        "    - name: albatros\n",
        "      size: m\n",
        "      family: bird\n",
        "      nutrition: carnivorous\n",
        "      predator_of:\n",
        "        - shark\n",
        "        - dolphin\n",
        "        - hyiena\n",
        "  ```\n",
        "\n",
        "  Instructions: {instructions}\n",
        "  ZooYAML:\n",
        "\"\"\")"
      ],
      "metadata": {
        "id": "KO0HmON3JuKz"
      },
      "execution_count": 56,
      "outputs": []
    },
    {
      "cell_type": "code",
      "source": [
        "def get_yaml(instructions):\n",
        "  completion = get_completion(PROMPT_TEMPLATE.format(instructions=instructions))\n",
        "  yaml_text = completion.split('```')[1]\n",
        "  return yaml_text"
      ],
      "metadata": {
        "id": "TVCJ9zQdJ-N_"
      },
      "execution_count": 57,
      "outputs": []
    },
    {
      "cell_type": "code",
      "source": [
        "yaml_text = get_yaml(\n",
        "    \"A zoo with a zebra - a large vegetarian mamml, a chameleon - small \"\n",
        "    \"carnivorous reptile, a comodo dragon - medium sized carnivorous reptile \"\n",
        "    \"who eats zebras, and a wolf, which is a medium sized mammal who is \"\n",
        "    \"carnivorous and feasts on chameleons.\")\n",
        "\n",
        "print(yaml_text)\n",
        "pprint(yaml.safe_load(yaml_text))"
      ],
      "metadata": {
        "colab": {
          "base_uri": "https://localhost:8080/"
        },
        "id": "cM0_xuvxGNbY",
        "outputId": "183b195f-b9d6-4285-fa89-813a3779f49f"
      },
      "execution_count": 58,
      "outputs": [
        {
          "output_type": "stream",
          "name": "stdout",
          "text": [
            "\n",
            "zoo:\n",
            "  - name: zebra\n",
            "    size: l\n",
            "    family: mammal\n",
            "    nutrition: vegetarian\n",
            "  - name: chameleon\n",
            "    size: s\n",
            "    family: reptile\n",
            "    nutrition: carnivorous\n",
            "  - name: comodo dragon\n",
            "    size: m\n",
            "    family: reptile\n",
            "    nutrition: carnivorous\n",
            "    predator_of: zebra\n",
            "  - name: wolf\n",
            "    size: m\n",
            "    family: mammal\n",
            "    nutrition: carnivorous\n",
            "    predator_of: chameleon\n",
            "\n",
            "{'zoo': [{'family': 'mammal',\n",
            "          'name': 'zebra',\n",
            "          'nutrition': 'vegetarian',\n",
            "          'size': 'l'},\n",
            "         {'family': 'reptile',\n",
            "          'name': 'chameleon',\n",
            "          'nutrition': 'carnivorous',\n",
            "          'size': 's'},\n",
            "         {'family': 'reptile',\n",
            "          'name': 'comodo dragon',\n",
            "          'nutrition': 'carnivorous',\n",
            "          'predator_of': 'zebra',\n",
            "          'size': 'm'},\n",
            "         {'family': 'mammal',\n",
            "          'name': 'wolf',\n",
            "          'nutrition': 'carnivorous',\n",
            "          'predator_of': 'chameleon',\n",
            "          'size': 'm'}]}\n"
          ]
        }
      ]
    },
    {
      "cell_type": "code",
      "source": [
        "yaml_text = get_yaml(\n",
        "    \"Here we have a case of a very strange zoo, where all animals are \"\n",
        "    \"mammals. There is a lion, which is of medium sized and can eat all \"\n",
        "    \"other animals. Then there's a gazelle, which is also medium-size, and \"\n",
        "    \"is vegetarian, as well as giant rat, which is really medium-sized (it is \"\n",
        "    \"only giant by rat standards) and is carnivorous, but can only eat \"\n",
        "    \"the gazelles, since lions are too big for it.\")\n",
        "\n",
        "print(yaml_text)\n",
        "pprint(yaml.safe_load(yaml_text))"
      ],
      "metadata": {
        "colab": {
          "base_uri": "https://localhost:8080/"
        },
        "id": "zRYD8h4oTNRH",
        "outputId": "a0c7b267-0905-4a6a-e3f7-59052a3e7b55"
      },
      "execution_count": 59,
      "outputs": [
        {
          "output_type": "stream",
          "name": "stdout",
          "text": [
            "\n",
            "zoo:\n",
            "  - name: lion\n",
            "    size: m\n",
            "    family: mammal\n",
            "    nutrition: carnivorous\n",
            "    predator_of:\n",
            "      - gazelle\n",
            "      - giant rat\n",
            "  - name: gazelle\n",
            "    size: m\n",
            "    family: mammal\n",
            "    nutrition: vegetarian\n",
            "  - name: giant rat\n",
            "    size: m\n",
            "    family: mammal\n",
            "    nutrition: carnivorous\n",
            "    predator_of: gazelle\n",
            "\n",
            "{'zoo': [{'family': 'mammal',\n",
            "          'name': 'lion',\n",
            "          'nutrition': 'carnivorous',\n",
            "          'predator_of': ['gazelle', 'giant rat'],\n",
            "          'size': 'm'},\n",
            "         {'family': 'mammal',\n",
            "          'name': 'gazelle',\n",
            "          'nutrition': 'vegetarian',\n",
            "          'size': 'm'},\n",
            "         {'family': 'mammal',\n",
            "          'name': 'giant rat',\n",
            "          'nutrition': 'carnivorous',\n",
            "          'predator_of': 'gazelle',\n",
            "          'size': 'm'}]}\n"
          ]
        }
      ]
    }
  ]
}